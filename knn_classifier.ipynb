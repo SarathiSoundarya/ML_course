{
 "cells": [
  {
   "cell_type": "markdown",
   "id": "d91ef1de",
   "metadata": {},
   "source": [
    "## K Nearest Neighbour Algorithm\n",
    "\n",
    "- Is a supervised learning algorithm\n",
    "- KNN classifier can classify examples by assigning them the class of the most similar examples.\n",
    "- simple but extremely poswerful algorithm\n",
    "- Well suited where relationships between the samples are very difficult to understand.\n",
    "\n",
    "### How it works?\n",
    "- If we have a new example, KNN algorithm first identifies k elements in the training datasets that are nearest in similarity.\n",
    "- The unlabelled test example is assigned to the class of the majority of the k nearest neighbours."
   ]
  },
  {
   "cell_type": "markdown",
   "id": "8ebbf646",
   "metadata": {},
   "source": [
    "- KNN does not build a model during training. It simply stores the training data.\n",
    "- When a new data point arrives, KNN **computes distances** to all stored data points to find the nearest neighbors. All the \"work\" happens during prediction, so its slow at prediction(distance computation is expensive).Training is extremely fast.\n",
    "- Non parametric learning.\n",
    "\n"
   ]
  },
  {
   "cell_type": "markdown",
   "id": "f294727d",
   "metadata": {},
   "source": [
    "Distance\n",
    "\n",
    "Manhattan:\n",
    "dist(x,y)=|x1-x2|+|y1-y2|\n",
    "\n",
    "Euclidean:\n",
    "dist(x,y)=sqrt((x1-x2)^2+(y1-y2)^2)\n",
    "\n",
    "Manhattan scales well with number of dimensions"
   ]
  },
  {
   "cell_type": "markdown",
   "id": "4358d89a",
   "metadata": {},
   "source": [
    "## Bias Variance Tradeoff\n",
    "\n",
    "High bias = underfitting, misses the trends in the training data. When we use too simple models.\n",
    "bias is the error from incorrect assumptions from the algorithm.\n",
    "\n",
    "Variance= overfitting, error from the sensitivity to random fluctuations in the dataset.\n",
    "model learns the noise instead of actual relationships between the variables in the data(of course, it is not present in the test set)\n"
   ]
  },
  {
   "cell_type": "markdown",
   "id": "2194405a",
   "metadata": {},
   "source": [
    "## How to choose optimal K value?\n",
    "\n",
    "\n",
    " Small k (e.g., k=1)\n",
    "- Model is **very sensitive** to noise.\n",
    "- **Low bias, high variance**.\n",
    "- **Overfitting** risk — captures noise as patterns.\n",
    "\n",
    "Large k (e.g., k ≈ total data points)\n",
    "- Model becomes **too smooth**.\n",
    "- **High bias, low variance**.\n",
    "- **Underfitting** — misses important patterns.\n",
    "\n",
    " Choosing the Right k\n",
    "- Use **cross-validation** to select optimal `k`.\n",
    "- Odd `k` values help avoid ties in binary classification.\n"
   ]
  },
  {
   "cell_type": "code",
   "execution_count": 1,
   "id": "39bb0990",
   "metadata": {},
   "outputs": [
    {
     "data": {
      "text/html": [
       "<div>\n",
       "<style scoped>\n",
       "    .dataframe tbody tr th:only-of-type {\n",
       "        vertical-align: middle;\n",
       "    }\n",
       "\n",
       "    .dataframe tbody tr th {\n",
       "        vertical-align: top;\n",
       "    }\n",
       "\n",
       "    .dataframe thead th {\n",
       "        text-align: right;\n",
       "    }\n",
       "</style>\n",
       "<table border=\"1\" class=\"dataframe\">\n",
       "  <thead>\n",
       "    <tr style=\"text-align: right;\">\n",
       "      <th></th>\n",
       "      <th>clientid</th>\n",
       "      <th>income</th>\n",
       "      <th>age</th>\n",
       "      <th>loan</th>\n",
       "      <th>default</th>\n",
       "    </tr>\n",
       "  </thead>\n",
       "  <tbody>\n",
       "    <tr>\n",
       "      <th>0</th>\n",
       "      <td>1</td>\n",
       "      <td>66155.92510</td>\n",
       "      <td>59.017015</td>\n",
       "      <td>8106.532131</td>\n",
       "      <td>0</td>\n",
       "    </tr>\n",
       "    <tr>\n",
       "      <th>1</th>\n",
       "      <td>2</td>\n",
       "      <td>34415.15397</td>\n",
       "      <td>48.117153</td>\n",
       "      <td>6564.745018</td>\n",
       "      <td>0</td>\n",
       "    </tr>\n",
       "    <tr>\n",
       "      <th>2</th>\n",
       "      <td>3</td>\n",
       "      <td>57317.17006</td>\n",
       "      <td>63.108049</td>\n",
       "      <td>8020.953296</td>\n",
       "      <td>0</td>\n",
       "    </tr>\n",
       "    <tr>\n",
       "      <th>3</th>\n",
       "      <td>4</td>\n",
       "      <td>42709.53420</td>\n",
       "      <td>45.751972</td>\n",
       "      <td>6103.642260</td>\n",
       "      <td>0</td>\n",
       "    </tr>\n",
       "    <tr>\n",
       "      <th>4</th>\n",
       "      <td>5</td>\n",
       "      <td>66952.68885</td>\n",
       "      <td>18.584336</td>\n",
       "      <td>8770.099235</td>\n",
       "      <td>1</td>\n",
       "    </tr>\n",
       "  </tbody>\n",
       "</table>\n",
       "</div>"
      ],
      "text/plain": [
       "   clientid       income        age         loan  default\n",
       "0         1  66155.92510  59.017015  8106.532131        0\n",
       "1         2  34415.15397  48.117153  6564.745018        0\n",
       "2         3  57317.17006  63.108049  8020.953296        0\n",
       "3         4  42709.53420  45.751972  6103.642260        0\n",
       "4         5  66952.68885  18.584336  8770.099235        1"
      ]
     },
     "execution_count": 1,
     "metadata": {},
     "output_type": "execute_result"
    }
   ],
   "source": [
    "import pandas as pd\n",
    "df=pd.read_csv('data/credit_data.csv')\n",
    "df.dropna(inplace=True)\n",
    "df.head()\n"
   ]
  },
  {
   "cell_type": "code",
   "execution_count": 2,
   "id": "6eadda4c",
   "metadata": {},
   "outputs": [],
   "source": [
    "X=df[['income','age','loan']]\n",
    "y=df['default']"
   ]
  },
  {
   "cell_type": "markdown",
   "id": "f394e6c8",
   "metadata": {},
   "source": [
    "### Transformations\n",
    "\n",
    "Why transformations? The distance formula depends on how features are measured. If certain features have much larger values than the others, the distance measurements will strongly be dominated by that value. So we need to rescale features such that each one contributes equally to the distance formula.\n",
    "\n",
    "- Min Max Normalization: transforms all the values between 0 and 1.\n",
    "\n",
    "x=(x-xmin)/(xmax-xmin)\n",
    "\n",
    "- Z Score Normalization: used so that the feature is fitted into a normal distribution as \n",
    "\n",
    "x=(x-mean(x))/std(x)\n",
    "\n",
    "for pca we use z score normalization"
   ]
  },
  {
   "cell_type": "code",
   "execution_count": 3,
   "id": "e13ed79f",
   "metadata": {},
   "outputs": [
    {
     "data": {
      "text/plain": [
       "array([[0.9231759 , 0.95743135, 0.58883739],\n",
       "       [0.28812165, 0.86378597, 0.47682695],\n",
       "       [0.74633429, 0.99257918, 0.58262011],\n",
       "       ...,\n",
       "       [0.48612202, 0.69109837, 0.40112895],\n",
       "       [0.47500998, 1.        , 0.1177903 ],\n",
       "       [0.98881367, 0.93282208, 0.53597028]], shape=(1997, 3))"
      ]
     },
     "execution_count": 3,
     "metadata": {},
     "output_type": "execute_result"
    }
   ],
   "source": [
    "from sklearn.preprocessing import MinMaxScaler\n",
    "scaler=MinMaxScaler()\n",
    "X_scaled=scaler.fit_transform(X)\n",
    "X_scaled"
   ]
  },
  {
   "cell_type": "code",
   "execution_count": 4,
   "id": "ed994427",
   "metadata": {},
   "outputs": [],
   "source": [
    "from sklearn.model_selection import train_test_split\n",
    "X_train, X_test, y_train, y_test = train_test_split(X_scaled, y, test_size=0.3, random_state=42)"
   ]
  },
  {
   "cell_type": "code",
   "execution_count": 5,
   "id": "6dfe6007",
   "metadata": {},
   "outputs": [],
   "source": [
    "from sklearn.neighbors import KNeighborsClassifier\n",
    "knn=KNeighborsClassifier(n_neighbors=20)\n",
    "knn.fit(X_train,y_train)\n",
    "predicted=knn.predict(X_test)"
   ]
  },
  {
   "cell_type": "code",
   "execution_count": 6,
   "id": "9b782837",
   "metadata": {},
   "outputs": [
    {
     "data": {
      "text/plain": [
       "array([0, 0, 1, 0, 0, 0, 0, 0, 0, 0, 0, 0, 0, 1, 0, 0, 0, 0, 1, 0, 0, 0,\n",
       "       1, 0, 0, 0, 0, 1, 0, 0, 0, 0, 0, 0, 0, 0, 0, 1, 0, 1, 0, 0, 0, 0,\n",
       "       0, 0, 0, 0, 0, 0, 0, 0, 1, 0, 0, 0, 0, 0, 1, 0, 1, 0, 0, 0, 0, 0,\n",
       "       0, 0, 0, 0, 0, 0, 0, 0, 0, 0, 0, 0, 0, 0, 1, 0, 0, 0, 0, 0, 0, 0,\n",
       "       0, 0, 0, 0, 0, 0, 0, 1, 0, 0, 0, 0, 0, 0, 0, 0, 0, 0, 0, 0, 0, 0,\n",
       "       0, 0, 1, 0, 0, 0, 0, 0, 0, 1, 0, 1, 0, 0, 0, 0, 0, 1, 0, 0, 0, 1,\n",
       "       0, 0, 0, 0, 0, 0, 1, 0, 0, 0, 1, 0, 0, 0, 0, 0, 0, 0, 1, 0, 0, 0,\n",
       "       0, 0, 0, 0, 1, 0, 0, 0, 0, 0, 0, 0, 0, 0, 0, 0, 0, 0, 0, 0, 0, 0,\n",
       "       0, 0, 0, 0, 0, 0, 0, 0, 1, 0, 0, 0, 0, 0, 0, 0, 0, 0, 0, 0, 0, 0,\n",
       "       0, 1, 0, 0, 0, 0, 0, 0, 1, 0, 0, 0, 0, 0, 0, 1, 0, 0, 0, 1, 1, 0,\n",
       "       0, 0, 0, 0, 1, 1, 0, 1, 0, 0, 0, 0, 0, 0, 0, 1, 0, 0, 0, 0, 1, 0,\n",
       "       0, 0, 0, 1, 0, 0, 0, 0, 1, 0, 1, 0, 0, 0, 0, 0, 0, 0, 0, 0, 0, 1,\n",
       "       1, 1, 1, 0, 0, 0, 0, 0, 0, 0, 0, 0, 0, 0, 0, 1, 0, 0, 0, 0, 0, 0,\n",
       "       0, 0, 0, 1, 0, 0, 0, 0, 0, 0, 0, 0, 0, 0, 0, 0, 0, 0, 0, 0, 0, 0,\n",
       "       0, 1, 0, 0, 0, 1, 0, 0, 0, 0, 0, 0, 0, 0, 0, 0, 0, 1, 0, 1, 0, 0,\n",
       "       0, 0, 0, 0, 0, 0, 0, 0, 0, 0, 0, 0, 0, 0, 0, 0, 0, 1, 0, 0, 0, 0,\n",
       "       1, 0, 0, 0, 0, 0, 0, 0, 0, 0, 0, 0, 0, 0, 1, 0, 0, 0, 0, 0, 0, 0,\n",
       "       0, 0, 0, 0, 0, 0, 0, 0, 0, 1, 0, 0, 0, 0, 0, 0, 0, 0, 0, 1, 0, 1,\n",
       "       0, 0, 0, 0, 0, 1, 0, 0, 0, 0, 0, 0, 0, 0, 0, 0, 0, 0, 1, 0, 0, 1,\n",
       "       0, 1, 0, 0, 0, 0, 0, 0, 0, 0, 0, 1, 0, 0, 0, 1, 0, 0, 0, 0, 1, 0,\n",
       "       1, 1, 0, 0, 0, 0, 0, 0, 0, 0, 0, 0, 0, 0, 1, 0, 0, 0, 0, 0, 0, 0,\n",
       "       0, 0, 0, 0, 0, 0, 0, 0, 0, 0, 1, 0, 1, 0, 0, 0, 0, 0, 0, 0, 0, 0,\n",
       "       0, 0, 0, 0, 0, 0, 0, 0, 0, 0, 0, 0, 1, 1, 0, 0, 0, 0, 0, 0, 1, 0,\n",
       "       0, 0, 0, 0, 1, 0, 0, 0, 0, 1, 0, 1, 0, 0, 0, 0, 1, 0, 0, 0, 0, 0,\n",
       "       0, 0, 0, 0, 0, 0, 0, 1, 0, 0, 0, 0, 0, 0, 0, 0, 0, 0, 0, 0, 0, 0,\n",
       "       1, 0, 0, 0, 0, 0, 0, 0, 1, 0, 0, 0, 0, 0, 0, 0, 1, 0, 1, 0, 0, 0,\n",
       "       0, 0, 0, 0, 0, 1, 0, 0, 0, 0, 0, 0, 0, 0, 0, 1, 1, 0, 0, 0, 0, 0,\n",
       "       0, 0, 0, 0, 0, 0])"
      ]
     },
     "execution_count": 6,
     "metadata": {},
     "output_type": "execute_result"
    }
   ],
   "source": [
    "predicted"
   ]
  },
  {
   "cell_type": "code",
   "execution_count": 7,
   "id": "e21614dd",
   "metadata": {},
   "outputs": [
    {
     "name": "stdout",
     "output_type": "stream",
     "text": [
      "Accuracy: 0.975\n",
      "[[508   1]\n",
      " [ 14  77]]\n"
     ]
    }
   ],
   "source": [
    "from sklearn.metrics import accuracy_score\n",
    "print(\"Accuracy:\", accuracy_score(y_test, predicted))\n",
    "from sklearn.metrics import confusion_matrix\n",
    "print(confusion_matrix(y_test, predicted))\n"
   ]
  },
  {
   "cell_type": "markdown",
   "id": "838ab48f",
   "metadata": {},
   "source": [
    "### Choosing k with cross validation"
   ]
  },
  {
   "cell_type": "code",
   "execution_count": 9,
   "id": "e22596c4",
   "metadata": {},
   "outputs": [
    {
     "name": "stdout",
     "output_type": "stream",
     "text": [
      "Best k: 23\n"
     ]
    }
   ],
   "source": [
    "from sklearn.model_selection import cross_val_score\n",
    "scores=[]\n",
    "for k in range(1, 100):\n",
    "    knn = KNeighborsClassifier(n_neighbors=k)\n",
    "    cross_val_scores = cross_val_score(knn, X_scaled, y, cv=10)\n",
    "    scores.append(cross_val_scores.mean())\n",
    "print(\"Best k:\", scores.index(max(scores)) + 1)\n"
   ]
  },
  {
   "cell_type": "code",
   "execution_count": 10,
   "id": "37ff1893",
   "metadata": {},
   "outputs": [
    {
     "name": "stdout",
     "output_type": "stream",
     "text": [
      "Accuracy: 0.9783333333333334\n",
      "[[508   1]\n",
      " [ 12  79]]\n"
     ]
    }
   ],
   "source": [
    "knn=KNeighborsClassifier(n_neighbors=23)\n",
    "knn.fit(X_train,y_train)\n",
    "predicted=knn.predict(X_test)\n",
    "from sklearn.metrics import accuracy_score\n",
    "print(\"Accuracy:\", accuracy_score(y_test, predicted))\n",
    "from sklearn.metrics import confusion_matrix\n",
    "print(confusion_matrix(y_test, predicted))"
   ]
  },
  {
   "cell_type": "code",
   "execution_count": null,
   "id": "6f34ffe0",
   "metadata": {},
   "outputs": [],
   "source": []
  }
 ],
 "metadata": {
  "kernelspec": {
   "display_name": "Python 3",
   "language": "python",
   "name": "python3"
  },
  "language_info": {
   "codemirror_mode": {
    "name": "ipython",
    "version": 3
   },
   "file_extension": ".py",
   "mimetype": "text/x-python",
   "name": "python",
   "nbconvert_exporter": "python",
   "pygments_lexer": "ipython3",
   "version": "3.12.3"
  }
 },
 "nbformat": 4,
 "nbformat_minor": 5
}
